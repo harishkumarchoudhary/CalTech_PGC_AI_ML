{
  "nbformat": 4,
  "nbformat_minor": 0,
  "metadata": {
    "colab": {
      "provenance": [],
      "include_colab_link": true
    },
    "kernelspec": {
      "name": "python3",
      "display_name": "Python 3"
    },
    "language_info": {
      "name": "python"
    }
  },
  "cells": [
    {
      "cell_type": "markdown",
      "metadata": {
        "id": "view-in-github",
        "colab_type": "text"
      },
      "source": [
        "<a href=\"https://colab.research.google.com/github/harishkumarchoudhary/CalTech_PGC_AI_ML/blob/main/4_Python_Decision_Control_Structures.ipynb\" target=\"_parent\"><img src=\"https://colab.research.google.com/assets/colab-badge.svg\" alt=\"Open In Colab\"/></a>"
      ]
    },
    {
      "cell_type": "markdown",
      "source": [
        "## **Control structures**\n",
        "1. Sequential control structures\n",
        "2. Decision control structures\n",
        "3. Iterative control structures"
      ],
      "metadata": {
        "id": "-URdW0EddDYn"
      }
    },
    {
      "cell_type": "code",
      "source": [
        "# Sequential control structures"
      ],
      "metadata": {
        "id": "LwmHuLIhWvBt"
      },
      "execution_count": null,
      "outputs": []
    },
    {
      "cell_type": "code",
      "source": [
        "a = 3\n",
        "b = 4\n",
        "c1 = a + b\n",
        "print(c1)"
      ],
      "metadata": {
        "id": "w2QOfIVMri4t",
        "colab": {
          "base_uri": "https://localhost:8080/"
        },
        "outputId": "04e9230a-d2c6-4851-b986-d371cd5be0aa"
      },
      "execution_count": null,
      "outputs": [
        {
          "output_type": "stream",
          "name": "stdout",
          "text": [
            "7\n"
          ]
        }
      ]
    },
    {
      "cell_type": "markdown",
      "source": [
        "### **Decision control structures**\n",
        "\n",
        "*   Conditional flow\n",
        "*   Block execution\n",
        "\n",
        "\n",
        "![decision_making.jpg](data:image/jpeg;base64,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)\n",
        "##   Types:\n",
        "\n",
        "1.   Simple **if**\n",
        "2.   **if** - **else**\n",
        "3.   Nested **if** - **else**\n",
        "4.   **if** - **elif** - **else**  \n",
        "5.   Conditional expressions (Ternary operator)"
      ],
      "metadata": {
        "id": "kB93JLhfsNth"
      }
    },
    {
      "cell_type": "markdown",
      "source": [
        "### 1. Simple **if**\n",
        "\n",
        "keyword - **if**\n",
        "\n",
        "Block of code -> indented\n",
        "\n",
        "```\n",
        "Syntax :-   if (condition):\n",
        "                Statement 1\n",
        "                Statement 2\n",
        "                    .\n",
        "                    .\n",
        "                Statement n\n",
        "            Statement x\n",
        "```\n",
        "\n"
      ],
      "metadata": {
        "id": "Amxru_MZvkqH"
      }
    },
    {
      "cell_type": "code",
      "source": [
        "a = 3\n",
        "\n",
        "if a > 0 :\n",
        "  print(\"Positive\")\n",
        "  print(\"Still in if block\")\n",
        "\n",
        "print(\"Out of if condition\")"
      ],
      "metadata": {
        "id": "w508CH0Frk-u",
        "colab": {
          "base_uri": "https://localhost:8080/"
        },
        "outputId": "ff1e3f08-68ef-4987-f731-1cb84a3cf548"
      },
      "execution_count": null,
      "outputs": [
        {
          "output_type": "stream",
          "name": "stdout",
          "text": [
            "Positive\n",
            "Still in if block\n",
            "Out of if condition\n"
          ]
        }
      ]
    },
    {
      "cell_type": "code",
      "source": [
        "## Week 1 - Day 2 - Task 1\n",
        "## WAP to prompt user to enter their name, age and amount to be paid by them.\n",
        "\n",
        "name = input(\"Enter ur name \")\n",
        "age = int(input(\"Enter ur age \"))\n",
        "amount = float(input(\"Enter ur amount \"))\n",
        "\n",
        "if age >= 55 :\n",
        "  amount = amount - 0.1 * amount\n",
        "  print(\"amount to be paid is\", amount )\n",
        "\n",
        "if age < 55 :\n",
        "  print(\"amount to be paid is\", amount )"
      ],
      "metadata": {
        "colab": {
          "base_uri": "https://localhost:8080/"
        },
        "id": "Hkqyl2S4zJn7",
        "outputId": "261e27ed-29fd-4e9b-94e1-fe8868390c54"
      },
      "execution_count": null,
      "outputs": [
        {
          "output_type": "stream",
          "name": "stdout",
          "text": [
            "Enter ur name Harish\n",
            "Enter ur age 54\n",
            "Enter ur amount 1002\n",
            "amount to be paid is 1002.0\n"
          ]
        }
      ]
    },
    {
      "cell_type": "markdown",
      "source": [
        "### 2. **if** - **else**\n",
        "\n",
        "keywords - **if** & **else**\n",
        "\n",
        "Two Blocks of code -> indented\n",
        "\n",
        "**if** block = True block\n",
        "\n",
        "**else** block = False block\n",
        "\n",
        "```\n",
        "Syntax :-   if (condition):\n",
        "                Statement 1\n",
        "                Statement 2\n",
        "                    .\n",
        "                    .\n",
        "                Statement n\n",
        "            else:\n",
        "                Statement 1\n",
        "                Statement 2\n",
        "                    .\n",
        "                    .\n",
        "                Statement n\n",
        "            Statement x\n",
        "```\n",
        "\n"
      ],
      "metadata": {
        "id": "aufcPJDYy6oV"
      }
    },
    {
      "cell_type": "code",
      "source": [
        "a = 3\n",
        "\n",
        "if a % 2 == 0:\n",
        "  print(\"Its an even number\")\n",
        "else:\n",
        "  print(\"Its an odd number\")"
      ],
      "metadata": {
        "id": "EJS1-WWSrnRo",
        "colab": {
          "base_uri": "https://localhost:8080/"
        },
        "outputId": "e301a352-f617-49ca-e33f-a93ac2d4ad95"
      },
      "execution_count": null,
      "outputs": [
        {
          "output_type": "stream",
          "name": "stdout",
          "text": [
            "Its an odd number\n"
          ]
        }
      ]
    },
    {
      "cell_type": "code",
      "source": [
        "## version 2\n",
        "## Week 1 - Day 2 - Task 1\n",
        "## WAP to prompt user to enter their name, age and amount to be paid by them.\n",
        "\n",
        "name = input(\"Enter ur name \")\n",
        "age = int(input(\"Enter ur age \"))\n",
        "amount = float(input(\"Enter ur amount \"))\n",
        "\n",
        "if age >= 55 :\n",
        "  amount = amount - 0.1 * amount\n",
        "  print(\"amount to be paid is\", amount )\n",
        "else :\n",
        "  print(\"amount to be paid is\", amount )"
      ],
      "metadata": {
        "colab": {
          "base_uri": "https://localhost:8080/"
        },
        "id": "dGb3LBQT2vS8",
        "outputId": "3f8b0f54-1605-4969-ba64-825110849556"
      },
      "execution_count": null,
      "outputs": [
        {
          "output_type": "stream",
          "name": "stdout",
          "text": [
            "Enter ur name abc\n",
            "Enter ur age 56\n",
            "Enter ur amount 10000\n",
            "amount to be paid is 9000.0\n"
          ]
        }
      ]
    },
    {
      "cell_type": "code",
      "source": [
        "## Task 2\n",
        "\n",
        "## WAP to prompt user to enter 2 numbers, Print the greater number among those 2\n",
        "a = int(input(\"Enter ur first number \"))\n",
        "b = int(input(\"Enter ur second number \"))\n",
        "c= int(input(\"Enter third number\"))\n",
        "\n",
        "if a > b and a>c:\n",
        "  print(\"a greater than b\")\n",
        "  #print(f\"a={a} is greater than b={b}\")\n",
        "else:\n",
        "  print(\"b greater than a\")\n",
        "  #print(f\"b={b} is greater than a={a}\")"
      ],
      "metadata": {
        "id": "e3VAS3qI9kDd",
        "colab": {
          "base_uri": "https://localhost:8080/"
        },
        "outputId": "acd4788f-6b53-4271-bc74-0431e28ce885"
      },
      "execution_count": 5,
      "outputs": [
        {
          "output_type": "stream",
          "name": "stdout",
          "text": [
            "Enter ur first number 2\n",
            "Enter ur second number 3\n",
            "Enter third number5\n",
            "b greater than a\n"
          ]
        }
      ]
    },
    {
      "cell_type": "code",
      "source": [
        "(\"ML\" and \"AL\") in [\"klose\",\"AL\",\"ML\"]"
      ],
      "metadata": {
        "id": "gOL1F8Xloodb"
      },
      "execution_count": null,
      "outputs": []
    },
    {
      "cell_type": "code",
      "source": [
        "## Task 3 and Task 4\n",
        "\n",
        "import random as r\n",
        "\n",
        "r_num = r.randint(1,5) ## This is the number to be guessed\n",
        "\n",
        "num = int(input(\"Enter ur choice \")) ## Ask user\n",
        "print(type(r_num),type(num))\n",
        "if num == r_num :\n",
        "  print(\"U Win\")\n",
        "else :\n",
        "  print(\"Better Luck Nxt time\")\n",
        "  print(f\"Computers choice was {r_num}\")\n",
        "\n",
        "print(\"Game Over! Thank you for playing.\")"
      ],
      "metadata": {
        "colab": {
          "base_uri": "https://localhost:8080/",
          "height": 391
        },
        "id": "yRLpbSEY_EVT",
        "outputId": "9a14b435-3022-4bd9-d5fa-f10669497ea8"
      },
      "execution_count": 29,
      "outputs": [
        {
          "output_type": "error",
          "ename": "KeyboardInterrupt",
          "evalue": "Interrupted by user",
          "traceback": [
            "\u001b[0;31m---------------------------------------------------------------------------\u001b[0m",
            "\u001b[0;31mKeyboardInterrupt\u001b[0m                         Traceback (most recent call last)",
            "\u001b[0;32m<ipython-input-29-4f807132d5c9>\u001b[0m in \u001b[0;36m<cell line: 7>\u001b[0;34m()\u001b[0m\n\u001b[1;32m      5\u001b[0m \u001b[0mr_num\u001b[0m \u001b[0;34m=\u001b[0m \u001b[0mr\u001b[0m\u001b[0;34m.\u001b[0m\u001b[0mrandint\u001b[0m\u001b[0;34m(\u001b[0m\u001b[0;36m1\u001b[0m\u001b[0;34m,\u001b[0m\u001b[0;36m5\u001b[0m\u001b[0;34m)\u001b[0m \u001b[0;31m## This is the number to be guessed\u001b[0m\u001b[0;34m\u001b[0m\u001b[0;34m\u001b[0m\u001b[0m\n\u001b[1;32m      6\u001b[0m \u001b[0;34m\u001b[0m\u001b[0m\n\u001b[0;32m----> 7\u001b[0;31m \u001b[0mnum\u001b[0m \u001b[0;34m=\u001b[0m \u001b[0mint\u001b[0m\u001b[0;34m(\u001b[0m\u001b[0minput\u001b[0m\u001b[0;34m(\u001b[0m\u001b[0;34m\"Enter ur choice \"\u001b[0m\u001b[0;34m)\u001b[0m\u001b[0;34m)\u001b[0m \u001b[0;31m## Ask user\u001b[0m\u001b[0;34m\u001b[0m\u001b[0;34m\u001b[0m\u001b[0m\n\u001b[0m\u001b[1;32m      8\u001b[0m \u001b[0mprint\u001b[0m\u001b[0;34m(\u001b[0m\u001b[0mtype\u001b[0m\u001b[0;34m(\u001b[0m\u001b[0mr_num\u001b[0m\u001b[0;34m)\u001b[0m\u001b[0;34m,\u001b[0m\u001b[0mtype\u001b[0m\u001b[0;34m(\u001b[0m\u001b[0mnum\u001b[0m\u001b[0;34m)\u001b[0m\u001b[0;34m)\u001b[0m\u001b[0;34m\u001b[0m\u001b[0;34m\u001b[0m\u001b[0m\n\u001b[1;32m      9\u001b[0m \u001b[0;32mif\u001b[0m \u001b[0mnum\u001b[0m \u001b[0;34m==\u001b[0m \u001b[0mr_num\u001b[0m \u001b[0;34m:\u001b[0m\u001b[0;34m\u001b[0m\u001b[0;34m\u001b[0m\u001b[0m\n",
            "\u001b[0;32m/usr/local/lib/python3.10/dist-packages/ipykernel/kernelbase.py\u001b[0m in \u001b[0;36mraw_input\u001b[0;34m(self, prompt)\u001b[0m\n\u001b[1;32m    849\u001b[0m                 \u001b[0;34m\"raw_input was called, but this frontend does not support input requests.\"\u001b[0m\u001b[0;34m\u001b[0m\u001b[0;34m\u001b[0m\u001b[0m\n\u001b[1;32m    850\u001b[0m             )\n\u001b[0;32m--> 851\u001b[0;31m         return self._input_request(str(prompt),\n\u001b[0m\u001b[1;32m    852\u001b[0m             \u001b[0mself\u001b[0m\u001b[0;34m.\u001b[0m\u001b[0m_parent_ident\u001b[0m\u001b[0;34m,\u001b[0m\u001b[0;34m\u001b[0m\u001b[0;34m\u001b[0m\u001b[0m\n\u001b[1;32m    853\u001b[0m             \u001b[0mself\u001b[0m\u001b[0;34m.\u001b[0m\u001b[0m_parent_header\u001b[0m\u001b[0;34m,\u001b[0m\u001b[0;34m\u001b[0m\u001b[0;34m\u001b[0m\u001b[0m\n",
            "\u001b[0;32m/usr/local/lib/python3.10/dist-packages/ipykernel/kernelbase.py\u001b[0m in \u001b[0;36m_input_request\u001b[0;34m(self, prompt, ident, parent, password)\u001b[0m\n\u001b[1;32m    893\u001b[0m             \u001b[0;32mexcept\u001b[0m \u001b[0mKeyboardInterrupt\u001b[0m\u001b[0;34m:\u001b[0m\u001b[0;34m\u001b[0m\u001b[0;34m\u001b[0m\u001b[0m\n\u001b[1;32m    894\u001b[0m                 \u001b[0;31m# re-raise KeyboardInterrupt, to truncate traceback\u001b[0m\u001b[0;34m\u001b[0m\u001b[0;34m\u001b[0m\u001b[0m\n\u001b[0;32m--> 895\u001b[0;31m                 \u001b[0;32mraise\u001b[0m \u001b[0mKeyboardInterrupt\u001b[0m\u001b[0;34m(\u001b[0m\u001b[0;34m\"Interrupted by user\"\u001b[0m\u001b[0;34m)\u001b[0m \u001b[0;32mfrom\u001b[0m \u001b[0;32mNone\u001b[0m\u001b[0;34m\u001b[0m\u001b[0;34m\u001b[0m\u001b[0m\n\u001b[0m\u001b[1;32m    896\u001b[0m             \u001b[0;32mexcept\u001b[0m \u001b[0mException\u001b[0m \u001b[0;32mas\u001b[0m \u001b[0me\u001b[0m\u001b[0;34m:\u001b[0m\u001b[0;34m\u001b[0m\u001b[0;34m\u001b[0m\u001b[0m\n\u001b[1;32m    897\u001b[0m                 \u001b[0mself\u001b[0m\u001b[0;34m.\u001b[0m\u001b[0mlog\u001b[0m\u001b[0;34m.\u001b[0m\u001b[0mwarning\u001b[0m\u001b[0;34m(\u001b[0m\u001b[0;34m\"Invalid Message:\"\u001b[0m\u001b[0;34m,\u001b[0m \u001b[0mexc_info\u001b[0m\u001b[0;34m=\u001b[0m\u001b[0;32mTrue\u001b[0m\u001b[0;34m)\u001b[0m\u001b[0;34m\u001b[0m\u001b[0;34m\u001b[0m\u001b[0m\n",
            "\u001b[0;31mKeyboardInterrupt\u001b[0m: Interrupted by user"
          ]
        }
      ]
    },
    {
      "cell_type": "markdown",
      "source": [
        "### 3. Nested **if** - **else**\n",
        "\n",
        "keywords - **if** & **else**\n",
        "\n",
        "Multiple Blocks of code -> indented\n",
        "\n",
        "**if** block = True block\n",
        "\n",
        "**else** block = False block\n",
        "\n",
        "Used when **multiple dependent conditions** are present\n",
        "\n",
        "```\n",
        "Syntax :-   if (condition 1):\n",
        "                # True Block\n",
        "                if (condition 2):\n",
        "                   # Inner True block\n",
        "                   Statement 1\n",
        "                   Statement 2\n",
        "                else:\n",
        "                   # Inner False block\n",
        "                   Statement 1\n",
        "                   Statement 2\n",
        "            else:\n",
        "                # False block\n",
        "                if (condition 3):\n",
        "                   # Inner True block\n",
        "                   Statement 1\n",
        "                   Statement 2\n",
        "                else:\n",
        "                   # Inner False block\n",
        "                   Statement 1\n",
        "                   Statement 2\n",
        "            Statement x\n",
        "```"
      ],
      "metadata": {
        "id": "p80eRLHo2d6-"
      }
    },
    {
      "cell_type": "code",
      "source": [
        "# Nested if-else\n",
        "# Find the largest of three numbers\n",
        "a = int(input(\"Enter the first number: \"))\n",
        "b = int(input(\"Enter the second number: \"))\n",
        "c = int(input(\"Enter the third number: \"))\n",
        "\n",
        "# a = 10, b = 5, c = 20\n",
        "# a = 5, b = 20, c =100\n",
        "if (a > b):\n",
        "  if (a > c):\n",
        "    print(\"Largest number is: \", a)\n",
        "  else:\n",
        "    print(\"Largest number is: \", c)\n",
        "else:\n",
        "  if (b > c):\n",
        "    print(\"Largest number is: \", b)\n",
        "  else:\n",
        "    print(\"Largest number is: \", c)\n",
        "\n",
        "print(\"Immediate sequence statement\")"
      ],
      "metadata": {
        "id": "9sVZ1rRaGgtH",
        "colab": {
          "base_uri": "https://localhost:8080/"
        },
        "outputId": "b3de70a2-4fe5-47ed-fb08-18dfe293f885"
      },
      "execution_count": 30,
      "outputs": [
        {
          "output_type": "stream",
          "name": "stdout",
          "text": [
            "Enter the first number: 23\n",
            "Enter the second number: 34\n",
            "Enter the third number: 56\n",
            "Largest number is:  56\n",
            "Immediate sequence statement\n"
          ]
        }
      ]
    },
    {
      "cell_type": "code",
      "source": [
        "## Student Query\n",
        "\n",
        "# Find the largest of three numbers using logical oprs\n",
        "a = int(input(\"Enter the first number: \"))\n",
        "b = int(input(\"Enter the second number: \"))\n",
        "c = int(input(\"Enter the third number: \"))\n",
        "\n",
        "if a>=b and a>=c:\n",
        "  print(a)\n",
        "elif b>=a and b>=c:\n",
        "  print(b)\n",
        "else:\n",
        "  print(c)"
      ],
      "metadata": {
        "colab": {
          "base_uri": "https://localhost:8080/"
        },
        "id": "e3rHwSV93b1Z",
        "outputId": "317f6acc-8e54-49c3-d5ca-ce1c17fddd62"
      },
      "execution_count": null,
      "outputs": [
        {
          "output_type": "stream",
          "name": "stdout",
          "text": [
            "Enter the first number: 10\n",
            "Enter the second number: 10\n",
            "Enter the third number: 20\n",
            "20\n"
          ]
        }
      ]
    },
    {
      "cell_type": "code",
      "source": [
        "## Task 5\n",
        "## Modify the code in task 4,\n",
        "## to give another chance to user,\n",
        "## if the guess is incorrect. Use nested if-else statement\n",
        "\n",
        "import random as r\n",
        "\n",
        "rnum = r.randint(1,5)\n",
        "firstguess = int(input('enter your guessing number'))\n",
        "\n",
        "if firstguess == rnum:\n",
        "  print('you win')\n",
        "else :\n",
        "  secondguess = int(input('enter for the second time'))\n",
        "  if secondguess == rnum:\n",
        "    print('you win')\n",
        "  else:\n",
        "    print('you loose')\n",
        "    print(\"the correct answer is :\", rnum)\n",
        "    print('game over,thank you for playing')"
      ],
      "metadata": {
        "colab": {
          "base_uri": "https://localhost:8080/"
        },
        "id": "HnyU3Hd6CYKN",
        "outputId": "def4faba-f9a2-4b3f-d1a8-a517f3cf7b7a"
      },
      "execution_count": null,
      "outputs": [
        {
          "output_type": "stream",
          "name": "stdout",
          "text": [
            "enter your guessing number3\n",
            "enter for the second time4\n",
            "you loose\n",
            "the correct answer is : 2\n",
            "game over,thank you for playing\n"
          ]
        }
      ]
    },
    {
      "cell_type": "markdown",
      "source": [
        "20### 4. **if** - **elif** - **else**\n",
        "\n",
        "keywords - **if** , **elif**, **else**\n",
        "\n",
        "Multiple Blocks of code -> indented\n",
        "\n",
        "**if** block = True block\n",
        "\n",
        "**elif** block = True block\n",
        "\n",
        "**else** block = False block\n",
        "\n",
        "Used when **multiple independent conditions** are present\n",
        "\n",
        "```\n",
        "Syntax :-   if (condition 1):\n",
        "                Statement 1\n",
        "                Statement 2\n",
        "            elif (condition 2):\n",
        "                Statement 1\n",
        "                Statement 2\n",
        "                    .\n",
        "                    .\n",
        "            else:\n",
        "                Statement 1\n",
        "                Statement 2\n",
        "            Statement x\n",
        "```"
      ],
      "metadata": {
        "id": "piHRXtTl7nu9"
      }
    },
    {
      "cell_type": "code",
      "source": [
        "# if - elif - else\n",
        "# Find the grade of the student\n",
        "marks = int(input(\"Enter the marks of the student: \"))\n",
        "\n",
        "if marks > 90:\n",
        "  print(\"Grade: A\")\n",
        "elif marks > 75: # 75 - 90\n",
        "  print(\"Grade: B\")\n",
        "elif marks > 60: # 60 -75\n",
        "  print(\"Grade: C\")\n",
        "elif marks > 45:\n",
        "  print(\"Grade: D\")\n",
        "else:\n",
        "  print(\"Grade: F\")"
      ],
      "metadata": {
        "id": "SJA6mQPNGrLB",
        "colab": {
          "base_uri": "https://localhost:8080/"
        },
        "outputId": "3b5b872c-356a-495e-f9b6-c7b233060208"
      },
      "execution_count": null,
      "outputs": [
        {
          "output_type": "stream",
          "name": "stdout",
          "text": [
            "Enter the marks of the student: 44\n",
            "Grade: F\n"
          ]
        }
      ]
    },
    {
      "cell_type": "code",
      "source": [
        "## num divisible by 3 and 5 both -> FizzBuzz\n",
        "## num divisible by only 3 and not 5 -> Fizz\n",
        "## num not divisible by 3 and div only by 5 -> Buzz\n",
        "## any other case I print the number\n",
        "a = 8\n",
        "\n",
        "if a % 3 == 0:\n",
        "  if a % 5 == 0:\n",
        "    print(\"FizzBuzz\")\n",
        "  else:\n",
        "    print(\"Fizz\")\n",
        "elif a % 5 == 0:\n",
        "  print(\"Buzz\")\n",
        "else:\n",
        "  print(a)"
      ],
      "metadata": {
        "colab": {
          "base_uri": "https://localhost:8080/"
        },
        "id": "043cN0kABaoV",
        "outputId": "0df67ac6-b4f7-4786-96d1-cae38610820b"
      },
      "execution_count": null,
      "outputs": [
        {
          "output_type": "stream",
          "name": "stdout",
          "text": [
            "8\n"
          ]
        }
      ]
    },
    {
      "cell_type": "code",
      "source": [
        "a = 26\n",
        "\n",
        "if a % 3 == 0 and a % 5 == 0:\n",
        "  print(\"FizzBuzz\")\n",
        "elif a % 5 == 0:\n",
        "  print(\"Buzz\")\n",
        "elif a % 3 == 0:\n",
        "  print(\"Fizz\")\n",
        "else:\n",
        "    print(a)"
      ],
      "metadata": {
        "colab": {
          "base_uri": "https://localhost:8080/"
        },
        "id": "NQPkmGhECYEr",
        "outputId": "fa03fd2d-4044-4efe-8f07-c11bf64c663f"
      },
      "execution_count": null,
      "outputs": [
        {
          "output_type": "stream",
          "name": "stdout",
          "text": [
            "26\n"
          ]
        }
      ]
    },
    {
      "cell_type": "code",
      "source": [
        "n = int(input('enter the number'))\n",
        "\n",
        "if (n % 3 == 0):\n",
        "  print(\"fizz\")\n",
        "  if(n % 5 == 0):\n",
        "    print('buzz')\n",
        "if(n % 5==0):\n",
        "  if(n % 3 == 0):\n",
        "    print('fizzbuzz')\n",
        "  else:\n",
        "    print('buzz')\n",
        "else:\n",
        "  print(n)\n",
        "\n",
        "## Above version has redundant code"
      ],
      "metadata": {
        "id": "3ol4NwP-DKwA",
        "colab": {
          "base_uri": "https://localhost:8080/"
        },
        "outputId": "055f7bc3-0d79-40a1-dfcf-93cc705f1d48"
      },
      "execution_count": 31,
      "outputs": [
        {
          "output_type": "stream",
          "name": "stdout",
          "text": [
            "enter the number7\n",
            "7\n"
          ]
        }
      ]
    },
    {
      "cell_type": "code",
      "source": [
        "## Task 7\n",
        "\n",
        "## WAP to check if an Employee is eligible for appraisal and hike or not,\n",
        "## based on their total work experience and experience in current organization\n",
        "\n",
        "current_exp = int(input(\"Enter your work experience in current organization (in months):\"))\n",
        "\n",
        "if current_exp >= 12:\n",
        "  print(\"Eligible for Appraisal and Hike\")\n",
        "else:\n",
        "  overall_past_exp = int(input('Enter your work-ex before joining this organization (in months):'))\n",
        "  if overall_past_exp > 0:\n",
        "    print('Appraisal and Default Hike') ## Lateral Hires\n",
        "  else:\n",
        "    print('Appraisal, No Hike') ## Freshers"
      ],
      "metadata": {
        "colab": {
          "base_uri": "https://localhost:8080/"
        },
        "id": "OdPAsfpzM5mx",
        "outputId": "10efea8b-5c32-412a-e3be-4ce88f41efae"
      },
      "execution_count": 34,
      "outputs": [
        {
          "output_type": "stream",
          "name": "stdout",
          "text": [
            "Enter your work experience in current organization (in months):4\n",
            "Enter your work-ex before joining this organization (in months):0\n",
            "Appraisal, No Hike\n"
          ]
        }
      ]
    },
    {
      "cell_type": "markdown",
      "source": [
        "### **Practice problems**\n",
        "1. Write a program to print FizzBuzz. Input an integer. If it is\n",
        "* Divisible by 3 - print FIZZ,\n",
        "* Divisible by 5 - print BUZZ\n",
        "* Divisible by both 3 and 5 - FIZZBUZZ\n",
        "* Else print the number itself\n",
        "2. WAP that takes price of as an item as input and calculates and display the selling price of the item based on below discounts:\n",
        "* Items with price between Rs 0 - Rs 9999 get 10% discount\n",
        "* Items with price between Rs 10000 - 20000 get 20% discount\n",
        "* Items with price above Rs 20000 get 25% discount\n",
        "3. Print the min and max of two numbers.\n",
        "4. WAP that takes age of a person as input and checks if the person is eligible to vote.\n",
        "5. Write a program that takes 'ch' as an input and based on its value do the following arithmetic calculation:\n",
        "\n",
        "```\n",
        "if ch=1  find a+b;\n",
        "if ch=2 find a-b;\n",
        "if ch=3  find a*b;\n",
        "if ch=4  find a/b;\n",
        "```"
      ],
      "metadata": {
        "id": "9oPNhJTwe3Eo"
      }
    },
    {
      "cell_type": "code",
      "source": [
        "price=int(input(\"Enter the price of item in INR:\"))\n",
        "if price>0 and price<9999:\n",
        "          new_price=price*0.9\n",
        "elif price>9999 and price<=2000:\n",
        "          new_price=price*0.8\n",
        "else:\n",
        "          new_price=price*0.75\n",
        "print(f\"price after discount is {new_price} INR \")\n"
      ],
      "metadata": {
        "id": "XbuPmxJh_omI",
        "outputId": "22a35578-79d3-4061-cbf1-e4c223bf633d",
        "colab": {
          "base_uri": "https://localhost:8080/"
        }
      },
      "execution_count": 41,
      "outputs": [
        {
          "output_type": "stream",
          "name": "stdout",
          "text": [
            "Enter the price of item in INR:256\n",
            "price after discount is 230.4 INR \n"
          ]
        }
      ]
    },
    {
      "cell_type": "code",
      "source": [
        "num1=int(input(\"Enter the first number:\"))\n",
        "num2=int(input(\"Enter the second number:\"))\n",
        "if num1>num2:\n",
        "  print(f\"maximum is {num1}\")\n",
        "elif num1==num2:\n",
        "  print(f\"both are same numbers\")\n",
        "else:\n",
        "  print(f\"maximum is {num2}\")"
      ],
      "metadata": {
        "id": "L46VtTl1BDV6",
        "outputId": "8513c151-0078-4498-fc4b-e7cb0b7f8b0b",
        "colab": {
          "base_uri": "https://localhost:8080/"
        }
      },
      "execution_count": 48,
      "outputs": [
        {
          "output_type": "stream",
          "name": "stdout",
          "text": [
            "Enter the first number:34\n",
            "Enter the second number:2\n",
            "maximum is 34\n"
          ]
        }
      ]
    },
    {
      "cell_type": "code",
      "source": [
        "## Practice problem, Task 2\n",
        "\n",
        "## Rs 0 - Rs 9999 get 10% discount\n",
        "## Rs 10000 - 20000 get 20% discount\n",
        "## Rs 20000 get 25% discount\n",
        "\n",
        "price= int(input('enter the price '))\n",
        "\n",
        "if price>=0 and price<=9999:\n",
        "  print('you got discount 10%')\n",
        "elif price>=10000 and price <=20000:\n",
        "  print ('you got discount of 20%')\n",
        "else :\n",
        "  print('you got discount of 25%')"
      ],
      "metadata": {
        "colab": {
          "base_uri": "https://localhost:8080/"
        },
        "id": "cmuDqESdSV_i",
        "outputId": "25abddaf-38a0-498e-be8c-20d112c4e60e"
      },
      "execution_count": null,
      "outputs": [
        {
          "output_type": "stream",
          "name": "stdout",
          "text": [
            "enter the price12000\n",
            "you got discount of 20%\n"
          ]
        }
      ]
    },
    {
      "cell_type": "code",
      "source": [],
      "metadata": {
        "id": "BVTpVRL0T_oc"
      },
      "execution_count": null,
      "outputs": []
    }
  ]
}